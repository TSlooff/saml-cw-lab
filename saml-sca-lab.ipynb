{
 "cells": [
  {
   "cell_type": "markdown",
   "id": "984678ce-23e0-4609-b8b1-1e2b959dbcf5",
   "metadata": {},
   "source": [
    "# Security Aspects of Machine Learning Lab: Side-channel attacks \n",
    "\n",
    "In this lab we will experiment with side-channel attacks using the Chipwhisperer Nano. "
   ]
  },
  {
   "cell_type": "markdown",
   "id": "0c17c450-0c28-4764-a744-d37be74eafa6",
   "metadata": {},
   "source": [
    "## Setting up the hardware"
   ]
  },
  {
   "cell_type": "code",
   "execution_count": null,
   "id": "2e7fead7-0a86-47ab-8814-d8f7a8e3c71b",
   "metadata": {},
   "outputs": [],
   "source": [
    "import chipwhisperer as cw\n",
    "import matplotlib.pyplot as plt\n",
    "import time\n",
    "import numpy as np\n",
    "from tqdm.notebook import trange"
   ]
  },
  {
   "cell_type": "code",
   "execution_count": null,
   "id": "8a1cbf02-b55b-4f00-99f8-a993203f50ab",
   "metadata": {},
   "outputs": [],
   "source": [
    "SCOPETYPE = 'CWNANO'\n",
    "PLATFORM = 'CWNANO'\n",
    "SS_VER=\"SS_VER_1_1\"\n",
    "CRYPTO_TARGET = 'TINYAES128C'"
   ]
  },
  {
   "cell_type": "code",
   "execution_count": null,
   "id": "59133b4b-fb8b-4484-8480-b258784b691f",
   "metadata": {},
   "outputs": [],
   "source": [
    "def reset_target(scope):\n",
    "    scope.io.nrst = 'low'\n",
    "    time.sleep(0.05)\n",
    "    scope.io.nrst = 'high_z'\n",
    "    time.sleep(0.05)"
   ]
  },
  {
   "cell_type": "code",
   "execution_count": null,
   "id": "aca6f618-0589-4316-85cc-3e64958d5e3b",
   "metadata": {},
   "outputs": [],
   "source": [
    "scope = cw.scope()\n",
    "target = cw.target(scope)\n",
    "prog = cw.programmers.STM32FProgrammer"
   ]
  },
  {
   "cell_type": "code",
   "execution_count": null,
   "id": "d094e5aa-9fa1-4e2a-9bc4-aba77f4bb0c8",
   "metadata": {},
   "outputs": [],
   "source": [
    "scope.default_setup()"
   ]
  },
  {
   "cell_type": "markdown",
   "id": "44ee32e1-b510-4b33-b825-b28e9afda716",
   "metadata": {},
   "source": [
    "# Checking that everything works using a simple program"
   ]
  },
  {
   "cell_type": "code",
   "execution_count": null,
   "id": "d26bb093-0231-43d2-b0e9-1575e3b842e8",
   "metadata": {
    "scrolled": true
   },
   "outputs": [],
   "source": [
    "# %%bash -s \"$PLATFORM\"\n",
    "# cd hw/simpleserial-base/\n",
    "# make PLATFORM=$1 CRYPTO_TARGET=NONE"
   ]
  },
  {
   "cell_type": "code",
   "execution_count": null,
   "id": "f08a4cf1-dc58-48de-ac5e-96a84deeb9c3",
   "metadata": {},
   "outputs": [],
   "source": [
    "cw.program_target(scope, prog, f\"hw/simpleserial-base/simpleserial-base-{PLATFORM}.hex\")"
   ]
  },
  {
   "cell_type": "code",
   "execution_count": null,
   "id": "36b0d15d-cbdc-4f3c-a718-32748899366c",
   "metadata": {},
   "outputs": [],
   "source": [
    "msg = bytearray([0]*16) #simpleserial uses bytearrays\n",
    "target.simpleserial_write('p', msg)\n",
    "print(target.simpleserial_read('r', 16))"
   ]
  },
  {
   "cell_type": "markdown",
   "id": "9e51dc90-c2a7-4c79-98c1-8bed0145ed35",
   "metadata": {},
   "source": [
    "Above should give ```bytearray(b'\\x00\\x00\\x00\\x00\\x00\\x00\\x00\\x00\\x00\\x00\\x00\\x00\\x00\\x00\\x00\\x00')```"
   ]
  },
  {
   "cell_type": "code",
   "execution_count": null,
   "id": "6b0dd103-96a2-4778-8728-b5d732968a62",
   "metadata": {},
   "outputs": [],
   "source": [
    "target.simpleserial_write('k', msg)\n",
    "print(target.simpleserial_wait_ack())"
   ]
  },
  {
   "cell_type": "markdown",
   "id": "5022d296-ddc7-4066-89b0-1bd956522e2b",
   "metadata": {},
   "source": [
    "Above should give ```0```"
   ]
  },
  {
   "cell_type": "code",
   "execution_count": null,
   "id": "d832d6aa-5ca2-4bf3-b2f7-beb2cfc5da26",
   "metadata": {},
   "outputs": [],
   "source": [
    "scope.arm()\n",
    "target.simpleserial_write('p', msg)\n",
    "## fill in the rest...\n",
    "scope.capture()\n",
    "trace = scope.get_last_trace()\n",
    "cw.plot(trace)"
   ]
  },
  {
   "cell_type": "markdown",
   "id": "2e542925-c3c9-4530-827b-6397f557a85a",
   "metadata": {},
   "source": [
    "Above should give you a plot containing a power trace of 5000 points"
   ]
  },
  {
   "cell_type": "markdown",
   "id": "fa3a1716-070f-48db-a011-073bc7b8e40f",
   "metadata": {},
   "source": [
    "# Our first target: a password checker"
   ]
  },
  {
   "cell_type": "code",
   "execution_count": null,
   "id": "de24ad3e-19c7-49d0-bb85-061553b353ea",
   "metadata": {},
   "outputs": [],
   "source": [
    "def cap_pass_trace(pass_guess):\n",
    "    pass_guess = pass_guess + \"\\n\"\n",
    "    reset_target(scope)\n",
    "    num_char = target.in_waiting()\n",
    "    while num_char > 0:\n",
    "        target.read(num_char, 10)\n",
    "        time.sleep(0.01)\n",
    "        num_char = target.in_waiting()\n",
    "\n",
    "    scope.arm()\n",
    "    target.write(pass_guess)\n",
    "    ret = scope.capture()\n",
    "    if ret:\n",
    "        print('Timeout happened during acquisition')\n",
    "\n",
    "    trace = scope.get_last_trace()\n",
    "    return trace"
   ]
  },
  {
   "cell_type": "code",
   "execution_count": null,
   "id": "8ae376ed-1e41-4c20-9b9a-eed3c49b0484",
   "metadata": {},
   "outputs": [],
   "source": [
    "def try_password(pw = None):\n",
    "    reset_target(scope)\n",
    "    \n",
    "    num_char = target.in_waiting()\n",
    "    while num_char > 0:\n",
    "        print(target.read(num_char))\n",
    "        time.sleep(0.03)\n",
    "        num_char = target.in_waiting()\n",
    "    \n",
    "    # time.sleep(0.05)\n",
    "    if pw is None:\n",
    "        pw = input()\n",
    "    target.write(f\"{pw}\\n\")\n",
    "    print(\"-\" * 50)\n",
    "    print(f\" password = {pw} \".center(50, '-'))\n",
    "    print(\"-\" * 50)\n",
    "    time.sleep(0.05)\n",
    "    \n",
    "    num_char = target.in_waiting()\n",
    "    while num_char > 0:\n",
    "        print(target.read(num_char, 10))\n",
    "        time.sleep(0.03)\n",
    "        num_char = target.in_waiting()"
   ]
  },
  {
   "cell_type": "code",
   "execution_count": null,
   "id": "ac6f1e7e-dc32-4ea4-9e36-ebdd16edb64b",
   "metadata": {},
   "outputs": [],
   "source": [
    "# %%bash -s \"$PLATFORM\" \"$SS_VER\"\n",
    "# cd hw/basic-passwdcheck\n",
    "# make PLATFORM=$1 CRYPTO_TARGET=NONE SS_VER=$2 -j"
   ]
  },
  {
   "cell_type": "code",
   "execution_count": null,
   "id": "5057ef36-1f97-4e9a-bd42-cb70a7b91171",
   "metadata": {},
   "outputs": [],
   "source": [
    "# The program is already compiled, you just need to program the target\n",
    "cw.program_target(scope, prog, f\"hw/basic-passwdcheck/basic-passwdcheck-{PLATFORM}.hex\")"
   ]
  },
  {
   "cell_type": "markdown",
   "id": "398d2c5b-f12f-466a-871a-da41a6fbb003",
   "metadata": {},
   "source": [
    "You can use the ```try_password()``` function to give a password to the program. If the password is correct you will get the message 'Access granted, Welcome!', if the password is incorrect you get the message 'PASSWORD FAIL'"
   ]
  },
  {
   "cell_type": "code",
   "execution_count": null,
   "id": "9895cd42-794b-44d6-8865-de958fb6bb92",
   "metadata": {},
   "outputs": [],
   "source": [
    "# Reduce sample size for this target program\n",
    "scope.adc.samples = 500"
   ]
  },
  {
   "cell_type": "code",
   "execution_count": null,
   "id": "1604fedf-be26-4752-8b0f-0d88cc49628c",
   "metadata": {},
   "outputs": [],
   "source": [
    "try_password()"
   ]
  },
  {
   "cell_type": "markdown",
   "id": "4a63bdb8-7a7f-49c5-b4a5-790abc2c7014",
   "metadata": {},
   "source": [
    "You can use the ```cap_pass_trace``` function to capture a power trace corresponding to the given input password."
   ]
  },
  {
   "cell_type": "code",
   "execution_count": null,
   "id": "50e4cd77-5b4b-4399-a0b4-3d682f166f6f",
   "metadata": {},
   "outputs": [],
   "source": [
    "trace = cap_pass_trace(\"a\")\n",
    "cw.plot(trace)"
   ]
  },
  {
   "cell_type": "markdown",
   "id": "9d66d17f-1ea1-4ec8-8935-9756926d4651",
   "metadata": {},
   "source": [
    "Let's try to figure out what the first character of the password is. To help you out I will give you the following information about the program. \n",
    "- To validate the password, the program compares each character of the input password from left to right to the correct password\n",
    "- Only the following characters are allowed in the password: ```abcdefghijklmnopqrstuvwxyz0123456789``` i.e. digits and lower-case letters\n",
    "- The program processes a zero byte character ```\"\\x00\"``` just like any other character, but it is certainly not in the password.\n",
    "\n",
    "HINT: try to see if the power trace for any (first) character looks different from the other ones"
   ]
  },
  {
   "cell_type": "code",
   "execution_count": null,
   "id": "5d68915a-1a2d-406e-887c-13a92ed5c450",
   "metadata": {},
   "outputs": [],
   "source": [
    "### IMPLEMENT\n",
    "raise NotImplementedError()"
   ]
  },
  {
   "cell_type": "markdown",
   "id": "80b2dbb7-4e7e-44c3-b4a6-541fe8471922",
   "metadata": {},
   "source": [
    "Once you have figured out how to retreive the first character, you can iteratively retrieve all characters of the password. Try to figure out a way to do this automatically, i.e. without having to manually look at plots. "
   ]
  },
  {
   "cell_type": "code",
   "execution_count": null,
   "id": "4be7b06c-39bc-4d9d-a60f-8d1dafa19d92",
   "metadata": {},
   "outputs": [],
   "source": [
    "### IMPLEMENT\n",
    "raise NotImplementedError()"
   ]
  },
  {
   "cell_type": "markdown",
   "id": "e5a676e8-4a85-40a5-b38b-c21c0b76ff1b",
   "metadata": {},
   "source": [
    "# Our second target: AES"
   ]
  },
  {
   "cell_type": "code",
   "execution_count": null,
   "id": "52acddb5-5d4c-459a-8f5d-ca4b9d827a31",
   "metadata": {},
   "outputs": [],
   "source": [
    "# AES sbox\n",
    "sbox = np.array([\n",
    "    0x63, 0x7C, 0x77, 0x7B, 0xF2, 0x6B, 0x6F, 0xC5, 0x30, 0x01, 0x67, 0x2B, 0xFE, 0xD7, 0xAB, 0x76,\n",
    "    0xCA, 0x82, 0xC9, 0x7D, 0xFA, 0x59, 0x47, 0xF0, 0xAD, 0xD4, 0xA2, 0xAF, 0x9C, 0xA4, 0x72, 0xC0,\n",
    "    0xB7, 0xFD, 0x93, 0x26, 0x36, 0x3F, 0xF7, 0xCC, 0x34, 0xA5, 0xE5, 0xF1, 0x71, 0xD8, 0x31, 0x15,\n",
    "    0x04, 0xC7, 0x23, 0xC3, 0x18, 0x96, 0x05, 0x9A, 0x07, 0x12, 0x80, 0xE2, 0xEB, 0x27, 0xB2, 0x75,\n",
    "    0x09, 0x83, 0x2C, 0x1A, 0x1B, 0x6E, 0x5A, 0xA0, 0x52, 0x3B, 0xD6, 0xB3, 0x29, 0xE3, 0x2F, 0x84,\n",
    "    0x53, 0xD1, 0x00, 0xED, 0x20, 0xFC, 0xB1, 0x5B, 0x6A, 0xCB, 0xBE, 0x39, 0x4A, 0x4C, 0x58, 0xCF,\n",
    "    0xD0, 0xEF, 0xAA, 0xFB, 0x43, 0x4D, 0x33, 0x85, 0x45, 0xF9, 0x02, 0x7F, 0x50, 0x3C, 0x9F, 0xA8,\n",
    "    0x51, 0xA3, 0x40, 0x8F, 0x92, 0x9D, 0x38, 0xF5, 0xBC, 0xB6, 0xDA, 0x21, 0x10, 0xFF, 0xF3, 0xD2,\n",
    "    0xCD, 0x0C, 0x13, 0xEC, 0x5F, 0x97, 0x44, 0x17, 0xC4, 0xA7, 0x7E, 0x3D, 0x64, 0x5D, 0x19, 0x73,\n",
    "    0x60, 0x81, 0x4F, 0xDC, 0x22, 0x2A, 0x90, 0x88, 0x46, 0xEE, 0xB8, 0x14, 0xDE, 0x5E, 0x0B, 0xDB,\n",
    "    0xE0, 0x32, 0x3A, 0x0A, 0x49, 0x06, 0x24, 0x5C, 0xC2, 0xD3, 0xAC, 0x62, 0x91, 0x95, 0xE4, 0x79,\n",
    "    0xE7, 0xC8, 0x37, 0x6D, 0x8D, 0xD5, 0x4E, 0xA9, 0x6C, 0x56, 0xF4, 0xEA, 0x65, 0x7A, 0xAE, 0x08,\n",
    "    0xBA, 0x78, 0x25, 0x2E, 0x1C, 0xA6, 0xB4, 0xC6, 0xE8, 0xDD, 0x74, 0x1F, 0x4B, 0xBD, 0x8B, 0x8A,\n",
    "    0x70, 0x3E, 0xB5, 0x66, 0x48, 0x03, 0xF6, 0x0E, 0x61, 0x35, 0x57, 0xB9, 0x86, 0xC1, 0x1D, 0x9E,\n",
    "    0xE1, 0xF8, 0x98, 0x11, 0x69, 0xD9, 0x8E, 0x94, 0x9B, 0x1E, 0x87, 0xE9, 0xCE, 0x55, 0x28, 0xDF,\n",
    "    0x8C, 0xA1, 0x89, 0x0D, 0xBF, 0xE6, 0x42, 0x68, 0x41, 0x99, 0x2D, 0x0F, 0xB0, 0x54, 0xBB, 0x16\n",
    "])\n",
    "\n",
    "# Hamming Weight: nr. of 1's in binary of given int value. e.g. HW[0] = 0, HW[255] = 8\n",
    "HW = np.array([bin(n).count(\"1\") for n in range(0, 256)])"
   ]
  },
  {
   "cell_type": "code",
   "execution_count": null,
   "id": "ce4137d4-3542-404c-a423-354e48b59e55",
   "metadata": {},
   "outputs": [],
   "source": [
    "scope.default_setup()"
   ]
  },
  {
   "cell_type": "code",
   "execution_count": null,
   "id": "ab1701a6-f2e8-4b00-9937-a478a5edf7e6",
   "metadata": {},
   "outputs": [],
   "source": [
    "# %%bash -s \"$PLATFORM\" \"$CRYPTO_TARGET\" \"$SS_VER\"\n",
    "# cd hw/simpleserial-aes\n",
    "# make PLATFORM=$1 CRYPTO_TARGET=$2 SS_VER=$3 -j"
   ]
  },
  {
   "cell_type": "code",
   "execution_count": null,
   "id": "38c6f5a3-cd82-41e3-a1c9-3abc787fe2a8",
   "metadata": {},
   "outputs": [],
   "source": [
    "cw.program_target(scope, prog, f\"hw/simpleserial-aes/simpleserial-aes-{PLATFORM}.hex\")"
   ]
  },
  {
   "cell_type": "markdown",
   "id": "c6e9ef4c-443b-4d17-9341-802d49a8eeb9",
   "metadata": {},
   "source": [
    "## The program\n",
    "This program takes as input a plaintext using the simpleserial protocol: 'p' followed by the 16 byte plaintext, and returns the ciphertext"
   ]
  },
  {
   "cell_type": "code",
   "execution_count": null,
   "id": "0004c7b0-c83e-40a2-8f46-07bca4c98cbf",
   "metadata": {},
   "outputs": [],
   "source": [
    "# a key - plaintext sampler: uses a fixed key and random plaintexts\n",
    "ktp = cw.ktp.Basic()\n",
    "key, pt = ktp.next()\n",
    "key"
   ]
  },
  {
   "cell_type": "code",
   "execution_count": null,
   "id": "c8e6c5a7-dc8e-41d1-ba7a-c57eec40ab37",
   "metadata": {},
   "outputs": [],
   "source": [
    "key, pt = ktp.next()\n",
    "print(f\"encrypting {pt.hex()} using key: {key.hex()}\")\n",
    "\n",
    "target.set_key(key)\n",
    "\n",
    "target.simpleserial_write('p', pt)\n",
    "ct = target.simpleserial_read('r', 16)\n",
    "print(f\"ciphertext: {ct.hex()}\")"
   ]
  },
  {
   "cell_type": "markdown",
   "id": "044682c8-4890-4314-bd3b-485b9395bcf4",
   "metadata": {},
   "source": [
    "Capture traces"
   ]
  },
  {
   "cell_type": "code",
   "execution_count": null,
   "id": "33b32f87-1434-4d7b-b203-50d0b692de7d",
   "metadata": {},
   "outputs": [],
   "source": [
    "N = 2000\n",
    "\n",
    "traces = np.zeros((N, scope.adc.samples))\n",
    "pts = np.zeros((N, 16), dtype=np.uint8)\n",
    "\n",
    "key, text = ktp.next()\n",
    "\n",
    "# set the key on the target\n",
    "target.set_key(key)\n",
    "print(f\"full key: {key.hex()} - {np.frombuffer(key, dtype=np.uint8)}\")"
   ]
  },
  {
   "cell_type": "code",
   "execution_count": null,
   "id": "33ed01ce-b548-4d69-939d-abcb8b0d10a1",
   "metadata": {},
   "outputs": [],
   "source": [
    "for i in trange(N, desc='Capturing traces'):\n",
    "    key, text = ktp.next()\n",
    "    ### IMPLEMENT\n",
    "    raise NotImplementedError()\n",
    "    \n",
    "    traces[i] = \n",
    "    pts[i] = np.frombuffer(text, dtype=np.uint8)\n"
   ]
  },
  {
   "cell_type": "code",
   "execution_count": null,
   "id": "a5d36b7b-c479-4291-b39f-c687048f90f1",
   "metadata": {},
   "outputs": [],
   "source": [
    "f = cw.plot(traces[0])\n",
    "# f *= cw.plot(traces[1])\n",
    "f"
   ]
  },
  {
   "cell_type": "code",
   "execution_count": null,
   "id": "f0ba2f19-de06-4c6b-a233-15be6df668cf",
   "metadata": {},
   "outputs": [],
   "source": [
    "# In case you want to do POI selection you can use SNR for this implementation\n",
    "def snr(obs_value, traces):\n",
    "    \"\"\"\n",
    "    Performs signal-to-noise ratio calculation along the columns.\n",
    "    \n",
    "    :obs_value: intermediate value for which you want to calculate the SNR, shape = [N,]\n",
    "    :traces:    side-channel measurements, shape = [N,P]\n",
    "    \n",
    "    :returns:   SNR values, shape=[P,]\n",
    "\n",
    "    Where\n",
    "    N = Number of traces\n",
    "    P = Number of points in a trace\n",
    "    \"\"\"\n",
    "    max_val = np.max(obs_value)\n",
    "    means = [None] * (max_val + 1)\n",
    "    varss = [None] * (max_val + 1)\n",
    "    for i in range(max_val + 1):\n",
    "        means[i] = np.mean(traces[obs_value == i], axis=0)\n",
    "        varss[i] = np.var(traces[obs_value == i], axis=0)\n",
    "    means = np.array(means)\n",
    "    varss = np.array(varss)\n",
    "    snr = np.zeros_like(means[0])\n",
    "    u_tot = np.mean(means, axis=0)\n",
    "    v_tot = np.mean(varss, axis=0)\n",
    "    for i in range(max_val + 1):\n",
    "        snr += np.power(means[i]-u_tot, 2)\n",
    "    snr = snr / v_tot\n",
    "    return snr"
   ]
  },
  {
   "cell_type": "code",
   "execution_count": null,
   "id": "31ce8e13-191b-455a-9758-cdce4d841f6e",
   "metadata": {},
   "outputs": [],
   "source": [
    "key_vec = np.zeros(256)\n",
    "\n",
    "for kguess in trange(256):\n",
    "    ### IMPLEMENT\n",
    "    # Either CPA or DPA suffice\n",
    "    hypotheses = \n",
    "    key_vec[kguess] = \n",
    "\n",
    "# print(key_vec)\n",
    "print(np.argmax(key_vec), key[0])"
   ]
  },
  {
   "cell_type": "code",
   "execution_count": null,
   "id": "be115b6d-9554-45a7-9ea0-d68dcb52f3e9",
   "metadata": {},
   "outputs": [],
   "source": [
    "plt.plot(key_vec)"
   ]
  },
  {
   "cell_type": "markdown",
   "id": "51da3081-77c3-4b22-b70d-96548ec386eb",
   "metadata": {},
   "source": [
    "# Bonus: Fault attacks"
   ]
  },
  {
   "cell_type": "markdown",
   "id": "0d3e8306-2cc6-43e8-b9d6-c701df14aafb",
   "metadata": {},
   "source": [
    "Our chipwhisperer Nano has voltage glitching capabilities. This means that we can intentionally mess with the power supply to the chip. Digital hardware needs a particular (stable) amount of voltage to function properly. If this voltage is not provided according to specification, the chip can misbehave in ways, e.g. corrupting values in registers or skipping instructions. Fault attacks can therefore be powerful attacks.\n",
    "\n",
    "### Glitch Hardware\n",
    "\n",
    "The ChipWhisperer Nano's glitch setup is pretty simple, it temporarily shorts the microcontroller's voltage supply to ground:\n",
    "\n",
    "![](https://wiki.newae.com/images/8/82/Glitch-vccglitcher.png)\n",
    "\n",
    "For the Nano, `Glitch_In` is controlled by 2 parameters:\n",
    "\n",
    "1. `scope.glitch.ext_offset` - This determines the timing of the fault - The glitch will be inserted roughly `8.3ns * scope.glitch.ext_offset` after the trigger (which occurs at the start of encryption)\n",
    "1. `scope.glitch.repeat`     - This determines the length of the fault - The glitch will be inserted for roughly `8.3ns * scope.glitch.repeat`\n",
    "\n",
    "During this lab, we'll be varying these parameters to see if we can get a target to misbehave."
   ]
  },
  {
   "cell_type": "code",
   "execution_count": null,
   "id": "4ffe0e1f-4ed9-419b-a7a5-0d83e87ee8e0",
   "metadata": {},
   "outputs": [],
   "source": [
    "# simple serial version\n",
    "SS_VER = 'SS_VER_2_1'\n",
    "\n",
    "# when you perform fault attacks you may get a lot of error messages\n",
    "cw.set_all_log_levels(cw.logging.CRITICAL)\n",
    "\n",
    "# update target to new serial version\n",
    "target = cw.target(scope, cw.targets.SimpleSerial2)"
   ]
  },
  {
   "cell_type": "code",
   "execution_count": null,
   "id": "8f689949-9010-493b-add1-ddb889c6ced2",
   "metadata": {},
   "outputs": [],
   "source": [
    "# %%bash -s \"$PLATFORM\" \"$SS_VER\"\n",
    "# cd hw/simpleserial-glitch\n",
    "# make PLATFORM=$1 CRYPTO_TARGET=NONE SS_VER=$2 -j"
   ]
  },
  {
   "cell_type": "code",
   "execution_count": null,
   "id": "463c266f-6821-4ea2-bfed-70b177daafc0",
   "metadata": {},
   "outputs": [],
   "source": [
    "cw.program_target(scope, prog, \"hw/simpleserial-glitch/simpleserial-glitch-{}.hex\".format(PLATFORM))"
   ]
  },
  {
   "cell_type": "code",
   "execution_count": null,
   "id": "176afbce-f4a9-4669-8eb2-680758359cd9",
   "metadata": {},
   "outputs": [],
   "source": [
    "scope.io.clkout = 7.5E6\n",
    "target.baud = 230400"
   ]
  },
  {
   "cell_type": "code",
   "execution_count": null,
   "id": "52b2ff77-98f9-430f-9ae0-abcd4aab413c",
   "metadata": {},
   "outputs": [],
   "source": [
    "def reboot_flush(scope):            \n",
    "    reset_target(scope)\n",
    "    #Flush garbage too\n",
    "    target.flush()"
   ]
  },
  {
   "cell_type": "markdown",
   "id": "a8f4e96c-1eb9-4187-8618-c1bc7637b301",
   "metadata": {},
   "source": [
    "The simple serial program above contains a couple of functionalities which we can call using commands and the simple serial protocol. To get familiar with fault injection we will first look at a very simple program which we can call with the `g` command. It is simply a loop which always counts to 2500, and returns the count value.\n",
    "\n",
    "```C\n",
    "for(i=0; i<50; i++){\n",
    "        for(j=0; j<50; j++){\n",
    "            cnt++;\n",
    "        }\n",
    "    }\n",
    "```\n",
    "\n",
    "We want to see if we can get the chip to return a different value by injecting faults in the power supply."
   ]
  },
  {
   "cell_type": "code",
   "execution_count": null,
   "id": "a14185d4-c4cb-489f-8ea4-4bf5686a8995",
   "metadata": {},
   "outputs": [],
   "source": [
    "# Run the program normally\n",
    "scope.glitch.repeat = 0\n",
    "\n",
    "reboot_flush(scope)\n",
    "scope.arm()\n",
    "target.simpleserial_write(\"g\", bytearray([]))\n",
    "scope.capture()\n",
    "val = target.simpleserial_read_witherrors('r', 4, glitch_timeout=10)\n",
    "if val['valid']:\n",
    "    print(val)\n",
    "    print(f\"loop output: {int.from_bytes(val['payload'], byteorder='little')}\")"
   ]
  },
  {
   "cell_type": "markdown",
   "id": "71eed09e-63b2-4533-a55b-6541c7629424",
   "metadata": {},
   "source": [
    "Below you can see some code for how to inject a fault: all you have to do is set the `repeat` and `ext_offset` fields of `scope.glitch`. In this case the fault should be too strong, resulting in a reset of the chip."
   ]
  },
  {
   "cell_type": "code",
   "execution_count": null,
   "id": "c9d590f0-8af9-49ef-a3da-61a2c3f09392",
   "metadata": {},
   "outputs": [],
   "source": [
    "# Injecting a fault which will surely crash the chip\n",
    "scope.glitch.repeat, scope.glitch.ext_offset = (40, 50)\n",
    "\n",
    "target.flush()\n",
    "scope.arm()\n",
    "\n",
    "target.simpleserial_write(\"g\", bytearray([]))\n",
    "timeout = scope.capture()\n",
    "val = target.simpleserial_read_witherrors('r', 4, glitch_timeout=10)\n",
    "print(timeout)\n",
    "print(val)"
   ]
  },
  {
   "cell_type": "markdown",
   "id": "4218c238-5466-4ba8-a3eb-f00752dc243f",
   "metadata": {},
   "source": [
    "We can use a glitch controller to do a search for successful faults"
   ]
  },
  {
   "cell_type": "code",
   "execution_count": null,
   "id": "19f30d34-bba9-4f59-880b-ad25762872dd",
   "metadata": {},
   "outputs": [],
   "source": [
    "gc = cw.GlitchController(groups=[\"success\", \"reset\", \"normal\"], parameters=[\"repeat\", \"ext_offset\"])\n",
    "gc.display_stats()\n",
    "# This will display some counters which you can use to track progress when you're looking for faults"
   ]
  },
  {
   "cell_type": "code",
   "execution_count": null,
   "id": "4adca019-ff58-4974-946e-cdd2aac8b5a8",
   "metadata": {},
   "outputs": [],
   "source": [
    "gc.glitch_plot(plotdots={\"success\":\"+g\", \"reset\":\"xr\", \"normal\":None})"
   ]
  },
  {
   "cell_type": "code",
   "execution_count": null,
   "id": "b2abd6ac-bf71-42dc-8370-5208a3853e92",
   "metadata": {},
   "outputs": [],
   "source": [
    "gc.set_global_step(1)\n",
    "\n",
    "# ranges of glitch parameters\n",
    "gc.set_range(\"repeat\", 12, 13)\n",
    "gc.set_range(\"ext_offset\", 100, 1000)\n",
    "\n",
    "reboot_flush(scope)\n",
    "\n",
    "# we want to try each fault a couple of times because success is stochastic\n",
    "sample_size = 3\n",
    "for glitch_setting in gc.glitch_values():\n",
    "    \n",
    "    raise NotImplementedError(\"set the repeat and ext_offset of the fault\")\n",
    "    \n",
    "    successes = 0\n",
    "    resets = 0\n",
    "    \n",
    "    for i in range(sample_size):\n",
    "        \n",
    "        raise NotImplementedError(\"run the program with fault settings\")\n",
    "\n",
    "        # below you should put your logic to determine what the result of the fault was: a reset, normal behaviour, or a successful fault\n",
    "        if ...:\n",
    "            gc.add(\"reset\")\n",
    "            resets += 1\n",
    "\n",
    "            reboot_flush()\n",
    "        else:\n",
    "            if ... is False:\n",
    "                reboot_flush(scope)\n",
    "                gc.add(\"reset\")\n",
    "                resets += 1\n",
    "            else:\n",
    "                if ...: #successful fault\n",
    "                    gc.add(\"success\")\n",
    "                    successes += 1\n",
    "                else:\n",
    "                    gc.add(\"normal\")\n",
    "    if successes > 0:       \n",
    "        print(\"successes = {}, resets = {}, repeat = {}, ext_offset = {}\".format(successes, resets, scope.glitch.repeat, scope.glitch.ext_offset))\n",
    "print(\"Done glitching\")"
   ]
  },
  {
   "cell_type": "markdown",
   "id": "988e82f8-9b78-43b1-9cd8-a7732ba993f5",
   "metadata": {},
   "source": [
    "## Targeting a password checker\n",
    "\n",
    "Another functionality of the program is a password checker, which we can call with the command `p`. You can find an example of how to use it below."
   ]
  },
  {
   "cell_type": "code",
   "execution_count": null,
   "id": "976b6ab4-43c8-448d-9fd6-b775130a5332",
   "metadata": {},
   "outputs": [],
   "source": [
    "scope.glitch.repeat, scope.glitch.ext_offset = (0,0)\n",
    "pw = bytearray(\"password\", encoding='utf-8')\n",
    "\n",
    "reboot_flush(scope)\n",
    "scope.arm()\n",
    "target.simpleserial_write(\"p\", pw)\n",
    "ret = scope.capture()\n",
    "val = target.simpleserial_read_witherrors('r', 1, glitch_timeout=10)\n",
    "print(val)\n",
    "trace = scope.get_last_trace()"
   ]
  },
  {
   "cell_type": "markdown",
   "id": "ef626e99-74a5-4a60-a7d0-e6fc78139d04",
   "metadata": {},
   "source": [
    "\n",
    "The *payload* field of the response indicates if the password is valid. \n",
    "- payload = `0` -> password invalid\n",
    "- payload = `1` -> password is valid.\n",
    "\n",
    "So unfortunately, the password \"password\" is invalid. This time, let's not bother trying to find the correct password, instead let's try to inject a fault so the program thinks that it is."
   ]
  },
  {
   "cell_type": "code",
   "execution_count": null,
   "id": "3b7c6f29-b45b-458e-a152-709f7554567f",
   "metadata": {},
   "outputs": [],
   "source": [
    "raise NotImplementedError(\"Use a similar approach to above to find a fault to bypass the password checker\")"
   ]
  },
  {
   "cell_type": "markdown",
   "id": "d629aba2-11ed-47b3-83b6-e46989845db5",
   "metadata": {},
   "source": [
    "# Run below before exiting: disconnect from the hardware"
   ]
  },
  {
   "cell_type": "code",
   "execution_count": null,
   "id": "9cd2c701-e57e-4f5b-8136-d5d2f8698b3e",
   "metadata": {},
   "outputs": [],
   "source": [
    "scope.dis()\n",
    "target.dis()"
   ]
  }
 ],
 "metadata": {
  "kernelspec": {
   "display_name": "Python 3 (ipykernel)",
   "language": "python",
   "name": "python3"
  },
  "language_info": {
   "codemirror_mode": {
    "name": "ipython",
    "version": 3
   },
   "file_extension": ".py",
   "mimetype": "text/x-python",
   "name": "python",
   "nbconvert_exporter": "python",
   "pygments_lexer": "ipython3",
   "version": "3.9.19"
  }
 },
 "nbformat": 4,
 "nbformat_minor": 5
}
